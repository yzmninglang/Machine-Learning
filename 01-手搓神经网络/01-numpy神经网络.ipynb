{
 "cells": [
  {
   "cell_type": "code",
   "execution_count": 19,
   "id": "3146b6b0",
   "metadata": {},
   "outputs": [],
   "source": [
    "import numpy as np\n",
    "import math"
   ]
  },
  {
   "cell_type": "code",
   "execution_count": 17,
   "id": "b4a34544",
   "metadata": {},
   "outputs": [],
   "source": [
    "def tanh(x):\n",
    "    return np.tanh(x)\n",
    "def softmax(x_list):\n",
    "#     剪掉最大值，防止指数计算的时候指数过大，但是整体的值是不变的，因为相当于在上下都除以了一个常数\n",
    "    exp=np.exp(x_list-x_list.max())\n",
    "    return exp/exp.sum()"
   ]
  },
  {
   "cell_type": "code",
   "execution_count": 18,
   "id": "d7213012",
   "metadata": {},
   "outputs": [
    {
     "data": {
      "text/plain": [
       "array([0.0320586 , 0.08714432, 0.23688282, 0.64391426])"
      ]
     },
     "execution_count": 18,
     "metadata": {},
     "output_type": "execute_result"
    }
   ],
   "source": [
    "softmax(np.array([1,2,3,4]))"
   ]
  },
  {
   "cell_type": "code",
   "execution_count": 34,
   "id": "ff8880ef",
   "metadata": {},
   "outputs": [],
   "source": [
    "dimensions=[28*28,10]\n",
    "activation=[tanh,softmax]\n",
    "# 确定分布\n",
    "distribution=[\n",
    "    {'b':[0,0]},\n",
    "    {'b':[0,0],'w':[-math.sqrt(6/(dimensions[0]+dimensions[1])),math.sqrt(6/(dimensions[0]+dimensions[1]))]}\n",
    "]"
   ]
  },
  {
   "cell_type": "code",
   "execution_count": 22,
   "id": "b96cf889",
   "metadata": {
    "collapsed": true
   },
   "outputs": [
    {
     "ename": "NameError",
     "evalue": "name 'layer' is not defined",
     "output_type": "error",
     "traceback": [
      "\u001b[0;31m---------------------------------------------------------------------------\u001b[0m",
      "\u001b[0;31mNameError\u001b[0m                                 Traceback (most recent call last)",
      "Cell \u001b[0;32mIn[22], line 1\u001b[0m\n\u001b[0;32m----> 1\u001b[0m distribution[\u001b[43mlayer\u001b[49m]\n",
      "\u001b[0;31mNameError\u001b[0m: name 'layer' is not defined"
     ]
    }
   ],
   "source": []
  },
  {
   "cell_type": "code",
   "execution_count": 37,
   "id": "8cedabdc",
   "metadata": {},
   "outputs": [],
   "source": [
    "def init_parameter_b(layer):\n",
    "    dist = distribution[layer]['b']\n",
    "#    np.random.rand先生成0-1的随机数，然后再映射到b的分布区间中去\n",
    "    return np.random.rand(dimensions[layer])*(dist[1]-dist[0])+dist[0]\n",
    "\n",
    "\n",
    "def init_parameter_w(layer):\n",
    "    dist = distribution[layer]['w']\n",
    "#     首先是根据dimension生成一个dismensions[layer-1]*dismension[layer]的矩阵（0，1），然后将这个矩阵映射到其值域上去\n",
    "# 这种方式要注意第0层是没有w的\n",
    "    return np.random.rand(dimensions[layer-1],dimensions[layer])*(dist[1]-dist[0])+dist[0]\n",
    "\n",
    "\n",
    "# 设计函数初始化第0层和第第一层的参数\n",
    "def init_parameter():\n",
    "    init_parameter_w(1)\n",
    "    init_parameter_b(0)\n",
    "    init_parameter_b(1)"
   ]
  },
  {
   "cell_type": "code",
   "execution_count": 38,
   "id": "97404ebf",
   "metadata": {},
   "outputs": [
    {
     "data": {
      "text/plain": [
       "array([[-0.05055135, -0.07769846,  0.02399336, ..., -0.04053858,\n",
       "        -0.04451544, -0.04855048],\n",
       "       [ 0.05444738,  0.06181498,  0.0015491 , ..., -0.07997882,\n",
       "        -0.01111511, -0.02009478],\n",
       "       [ 0.03353246, -0.02048818, -0.00086384, ..., -0.07127232,\n",
       "         0.06105379, -0.00501281],\n",
       "       ...,\n",
       "       [-0.0292312 , -0.07664309, -0.0651903 , ..., -0.07126411,\n",
       "         0.02508519, -0.05807824],\n",
       "       [ 0.05168886,  0.06498627,  0.07580876, ...,  0.06817693,\n",
       "        -0.0392854 , -0.0800937 ],\n",
       "       [ 0.01532485,  0.03502682, -0.07756618, ..., -0.07830454,\n",
       "         0.05733133,  0.05321464]])"
      ]
     },
     "execution_count": 38,
     "metadata": {},
     "output_type": "execute_result"
    }
   ],
   "source": [
    "init_parameter_w(1)"
   ]
  },
  {
   "cell_type": "code",
   "execution_count": null,
   "id": "fed5bc52",
   "metadata": {},
   "outputs": [],
   "source": []
  }
 ],
 "metadata": {
  "kernelspec": {
   "display_name": "Python [conda env:ml]",
   "language": "python",
   "name": "conda-env-ml-py"
  },
  "language_info": {
   "codemirror_mode": {
    "name": "ipython",
    "version": 3
   },
   "file_extension": ".py",
   "mimetype": "text/x-python",
   "name": "python",
   "nbconvert_exporter": "python",
   "pygments_lexer": "ipython3",
   "version": "3.8.18"
  }
 },
 "nbformat": 4,
 "nbformat_minor": 5
}
